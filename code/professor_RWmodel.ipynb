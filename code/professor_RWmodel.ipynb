{
 "cells": [
  {
   "cell_type": "code",
   "execution_count": 3,
   "metadata": {},
   "outputs": [
    {
     "data": {
      "image/png": "[encoded data removed]",
      "text/plain": [
       "<Figure size 432x288 with 2 Axes>"
      ]
     },
     "metadata": {
      "needs_background": "light"
     },
     "output_type": "display_data"
    }
   ],
   "source": [
    "####### Rescorla_Wagner model simulator  #########\n",
    "#CS: array that defines presentation of the CSs: - 1 for CS present, 0 for CS absent\n",
    "#v_CS: array of v value for each CS\n",
    "#a_CS: array of alpha values for each CS\n",
    "#v_US: value of the US\n",
    "#b_US: learning parameter which is dependent on the US\n",
    "\n",
    "import matplotlib.pyplot as plt\n",
    "import numpy as np\n",
    "\n",
    "def RWacq (CS, v_CS, a_CS, v_US, b_US):\n",
    "    sum=0                                           # Sum of all the Vs\n",
    "    for i in range(len(CS)):\n",
    "        sum+=CS[i]*v_CS[i]        \n",
    "        \n",
    "    for i in range(len(CS)):\n",
    "        v_CS[i]+=CS[i]*a_CS[i]*b_US*(v_US-sum)    # Update the V \n",
    "\n",
    "    return v_CS                                       #return new set of v values\n",
    "\n",
    "\n",
    "\n",
    "\n",
    "\n",
    "#Simulation of simple acquisition\n",
    "# 1. assign parameters\n",
    "\n",
    "\n",
    "n_trials=100\n",
    "CS=[1,0]           # Only CS1 is presented in the 1st stage\n",
    "v_CS=[0,0]\n",
    "a_CS=[0.7,0.7]\n",
    "v_US=1\n",
    "b_US=0.1\n",
    "\n",
    "\n",
    "# 2. Run acquisition session and save v values to result array\n",
    "result=np.zeros((n_trials, len(CS)))\n",
    "for i in range(n_trials):\n",
    "    result[i]=RWacq(CS, v_CS, a_CS, v_US, b_US)\n",
    "\n",
    "# 3.plot figure \n",
    "fig,axs=plt.subplots(2)\n",
    "\n",
    "axs[0].plot(np.linspace(0,n_trials,n_trials), result[:,0], color='red')   \n",
    "axs[0].plot(np.linspace(0,n_trials,n_trials), result[:,1],color='blue')   \n",
    "axs[0].title.set_text('Stage1')\n",
    "    \n",
    "#Stage 2 for blocking \n",
    "# 2. Run acquisition session and save v values to result array\n",
    "CS=[1,1]\n",
    "result=np.zeros((n_trials, len(CS)))\n",
    "for i in range(n_trials):\n",
    "    result[i]=RWacq(CS, v_CS, a_CS, v_US, b_US)\n",
    "    \n",
    "#PLOT\n",
    "axs[1].plot(np.linspace(0,n_trials,n_trials), result[:,0], color='red')   \n",
    "axs[1].plot(np.linspace(0,n_trials,n_trials), result[:,1],color='blue') \n",
    "axs[1].title.set_text('Stage2')\n",
    "    \n",
    "    \n"
   ]
  },
  {
   "cell_type": "code",
   "execution_count": 4,
   "metadata": {},
   "outputs": [
    {
     "data": {
      "text/plain": [
       "[<matplotlib.lines.Line2D at 0x2b2729affc8>,\n",
       " <matplotlib.lines.Line2D at 0x2b2729fb648>]"
      ]
     },
     "execution_count": 4,
     "metadata": {},
     "output_type": "execute_result"
    },
    {
     "data": {
      "image/png": "[encoded data removed]",
      "text/plain": [
       "<Figure size 432x288 with 1 Axes>"
      ]
     },
     "metadata": {
      "needs_background": "light"
     },
     "output_type": "display_data"
    }
   ],
   "source": [
    "#Simulation of Blocking -continue from the example above\n",
    "\n",
    "CS=[1,1]\n",
    "\n",
    "for i in range(n_trials):\n",
    "    result[i]=RWacq(CS, v_CS, a_CS, v_US, b_US)\n",
    "    \n",
    "fig,axs=plt.subplots(1)\n",
    "axs.plot(np.linspace(0,n_trials,n_trials), result, color='blue')   \n",
    "#axs[1].plot(np.linspace(0,n_trials,n_trials), result[:,1],color='blue')   "
   ]
  },
  {
   "cell_type": "code",
   "execution_count": 5,
   "metadata": {},
   "outputs": [
    {
     "data": {
      "text/plain": [
       "[<matplotlib.lines.Line2D at 0x2b272aa8448>]"
      ]
     },
     "execution_count": 5,
     "metadata": {},
     "output_type": "execute_result"
    },
    {
     "data": {
      "image/png": "[encoded data removed]",
      "text/plain": [
       "<Figure size 432x288 with 2 Axes>"
      ]
     },
     "metadata": {
      "needs_background": "light"
     },
     "output_type": "display_data"
    }
   ],
   "source": [
    "#Simulation of conditined  inhibition\n",
    "\n",
    "# 1. assign parameters\n",
    "\n",
    "n_trials=500\n",
    "CS=[[1,0],[1,1]]  # Now you need two trial types\n",
    "v_CS=[0,0]\n",
    "a_CS=[0.7,0.7]\n",
    "v_US=[1,0]            # Now you need two USs\n",
    "b_US=[0.1, 0.05]      # Now you need two  beta values\n",
    "\n",
    "# 2. Run acquisition session and save v values to result array\n",
    "result=np.zeros((n_trials, len(v_CS)))\n",
    "for i in range(n_trials):\n",
    "    if i%2 == 0:\n",
    "        result[i]=RWacq(CS[0], v_CS, a_CS, v_US[0], b_US[0])\n",
    "    else:\n",
    "        result[i]=RWacq(CS[1], v_CS, a_CS, v_US[1], b_US[1])\n",
    "\n",
    "# 3.plot figure \n",
    "fig,axs=plt.subplots(2)\n",
    "axs[0].plot(np.linspace(0,n_trials,n_trials), result[:,0], color='red')   \n",
    "axs[0].plot(np.linspace(0,n_trials,n_trials), result[:,1],color='blue')   \n",
    "\n",
    "#Stage 2\n",
    "n_trials=100\n",
    "CS=[1,1]           \n",
    "a_CS=[0.7,0.7]\n",
    "v_US=1\n",
    "b_US=0.1\n",
    "\n",
    "v_CS[0]=0;\n",
    "\n",
    "# 2. Run acquisition session and save v values to result array\n",
    "# The result simply shows retardation of acquisition\n",
    "result=np.zeros((n_trials, len(CS)))\n",
    "for i in range(n_trials):\n",
    "    result[i]=RWacq(CS, v_CS, a_CS, v_US, b_US)\n",
    "    \n",
    "    \n",
    "axs[1].plot(np.linspace(0,n_trials,n_trials), result[:,0], color='red')   \n",
    "axs[1].plot(np.linspace(0,n_trials,n_trials), result[:,1],color='blue')   \n",
    "\n",
    "\n"
   ]
  },
  {
   "cell_type": "code",
   "execution_count": 7,
   "metadata": {},
   "outputs": [
    {
     "data": {
      "image/png": "[encoded data removed]",
      "text/plain": [
       "<Figure size 432x288 with 2 Axes>"
      ]
     },
     "metadata": {
      "needs_background": "light"
     },
     "output_type": "display_data"
    }
   ],
   "source": [
    "#Latent inhibition\n",
    "\n",
    "import matplotlib.pyplot as plt\n",
    "import numpy as np\n",
    "\n",
    "def RWacq (CS, v_CS, a_CS, v_US, b_US):\n",
    "    sum=0                                           # Sum of all the Vs\n",
    "    for i in range(len(CS)):\n",
    "        sum+=CS[i]*v_CS[i]        \n",
    "        \n",
    "    for i in range(len(CS)):\n",
    "        v_CS[i]+=CS[i]*a_CS[i]*b_US*(v_US-sum)    # Update the V \n",
    "\n",
    "    return v_CS                                       #return new set of v values\n",
    "\n",
    "#Simulation of simple acquisition\n",
    "# 1. assign parameters\n",
    "\n",
    "\n",
    "n_trials=100\n",
    "CS=[1]           # Only CS1 is presented in the 1st stage\n",
    "v_CS=[0]\n",
    "a_CS=[0.7,0.7]\n",
    "v_US=0\n",
    "b_US=0.1\n",
    "# 2. Run acquisition session and save v values to result array\n",
    "result=np.zeros((n_trials, len(CS)))\n",
    "for i in range(n_trials):\n",
    "    result[i]=RWacq(CS, v_CS, a_CS, v_US, b_US)\n",
    "\n",
    "# 3.plot figure \n",
    "fig,axs=plt.subplots(2)\n",
    "\n",
    "axs[0].plot(np.linspace(0,n_trials,n_trials), result[:,0], color='red')   \n",
    "axs[0].title.set_text('Stage1')\n",
    "\n",
    "#Stage 2\n",
    "v_US=1;\n",
    "# 2. Run acquisition session and save v values to result array\n",
    "result=np.zeros((n_trials, len(CS)))\n",
    "for i in range(n_trials):\n",
    "    result[i]=RWacq(CS, v_CS, a_CS, v_US, b_US)\n",
    "\n",
    "# 3.plot figure \n",
    "axs[1].plot(np.linspace(0,n_trials,n_trials), result[:,0], color='red')   \n",
    "axs[1].title.set_text('Stage2')"
   ]
  },
  {
   "cell_type": "code",
   "execution_count": 11,
   "metadata": {},
   "outputs": [
    {
     "data": {
      "text/plain": [
       "[<matplotlib.lines.Line2D at 0x26fe8738748>]"
      ]
     },
     "execution_count": 11,
     "metadata": {},
     "output_type": "execute_result"
    },
    {
     "data": {
      "image/png": "[encoded data removed]",
      "text/plain": [
       "<Figure size 432x288 with 2 Axes>"
      ]
     },
     "metadata": {
      "needs_background": "light"
     },
     "output_type": "display_data"
    }
   ],
   "source": [
    "# Latent inhibition\n",
    "####### Rescorla_Wagner model simulator  #########\n",
    "#CS: array that defines presentation of the CSs: - 1 for CS present, 0 for CS absent\n",
    "#v_CS: array of v value for each CS\n",
    "#a_CS: array of alpha values for each CS\n",
    "#v_US: value of the US\n",
    "#b_US: learning parameter which is dependent on the US\n",
    "\n",
    "import matplotlib.pyplot as plt\n",
    "import numpy as np\n",
    "\n",
    "def RWacq (CS, v_CS, a_CS, v_US, b_US):\n",
    "    sum=0                                           # Sum of all the Vs\n",
    "    for i in range(len(CS)):\n",
    "        sum+=CS[i]*v_CS[i]        \n",
    "        \n",
    "    for i in range(len(CS)):\n",
    "        v_CS[i]+=CS[i]*a_CS[i]*b_US*(v_US-sum)    # Update the V \n",
    "\n",
    "    return v_CS                                       #return new set of v values\n",
    "\n",
    "#Simulation of simple acquisition\n",
    "# 1. assign parameters\n",
    "n_trials=100\n",
    "CS=[1]           # Only CS1 is presented in the 1st stage\n",
    "v_CS=[0]\n",
    "a_CS=[0.7]\n",
    "v_US=0\n",
    "b_US=0.1\n",
    "\n",
    "\n",
    "# 2. Run acquisition session and save v values to result array\n",
    "result=np.zeros((n_trials, len(CS)))\n",
    "for i in range(n_trials):\n",
    "    result[i]=RWacq(CS, v_CS, a_CS, v_US, b_US)\n",
    "\n",
    "# 3.plot figure \n",
    "fig,axs=plt.subplots(2)\n",
    "\n",
    "axs[0].plot(np.linspace(0,n_trials,n_trials), result[:,0], color='red')   \n",
    "axs[0].title.set_text('Stage1')\n",
    "    \n",
    "#Stage 2\n",
    "\n",
    "# 2. Run acquisition session and save v values to result array\n",
    "v_US=1\n",
    "result=np.zeros((n_trials, len(CS)))\n",
    "for i in range(n_trials):\n",
    "    result[i]=RWacq(CS, v_CS, a_CS, v_US, b_US)\n",
    "\n",
    "# 3.plot figure \n",
    "\n",
    "axs[1].plot(np.linspace(0,n_trials,n_trials), result[:,0], color='red')   \n",
    "axs[1].title.set_text('Stage1')\n",
    "\n",
    "#Naive CS\n",
    "\n",
    "#Simulation of simple acquisition\n",
    "# 1. assign parameters\n",
    "n_trials=100\n",
    "CS=[1]           # Only CS1 is presented in the 1st stage\n",
    "v_CS=[0]\n",
    "a_CS=[0.7]\n",
    "v_US=1\n",
    "b_US=0.1\n",
    "\n",
    "\n",
    "# 2. Run acquisition session and save v values to result array\n",
    "result=np.zeros((n_trials, len(CS)))\n",
    "for i in range(n_trials):\n",
    "    result[i]=RWacq(CS, v_CS, a_CS, v_US, b_US)\n",
    "\n",
    "# 3.plot figure \n",
    "\n",
    "axs[1].plot(np.linspace(0,n_trials,n_trials), result[:,0], color='blue')   \n"
   ]
  }
 ],
 "metadata": {
  "kernelspec": {
   "display_name": "Python 3",
   "language": "python",
   "name": "python3"
  },
  "language_info": {
   "codemirror_mode": {
    "name": "ipython",
    "version": 3
   },
   "file_extension": ".py",
   "mimetype": "text/x-python",
   "name": "python",
   "nbconvert_exporter": "python",
   "pygments_lexer": "ipython3",
   "version": "3.7.4"
  }
 },
 "nbformat": 4,
 "nbformat_minor": 2
}
