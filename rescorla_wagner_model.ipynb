{
  "nbformat": 4,
  "nbformat_minor": 0,
  "metadata": {
    "colab": {
      "name": "rescorla-wagner_model.ipynb",
      "provenance": [],
      "collapsed_sections": [],
      "authorship_tag": "ABX9TyP80WH5pDobYts8iAm7O4aL",
      "include_colab_link": true
    },
    "kernelspec": {
      "name": "python3",
      "display_name": "Python 3"
    }
  },
  "cells": [
    {
      "cell_type": "markdown",
      "metadata": {
        "id": "view-in-github",
        "colab_type": "text"
      },
      "source": [
        "<a href=\"https://colab.research.google.com/github/mong-head/Rescorla-Wagner-model/blob/master/rescorla_wagner_model.ipynb\" target=\"_parent\"><img src=\"https://colab.research.google.com/assets/colab-badge.svg\" alt=\"Open In Colab\"/></a>"
      ]
    },
    {
      "cell_type": "markdown",
      "metadata": {
        "id": "Hv2A4Pm9sGYm"
      },
      "source": [
        " # 조건\n",
        " use initial value of V = 0; learning rate β = 0.1 when the US is present or β = 0.05 otherwise ; US strength λ = 1 when the US is present unless otherwise specified or λ = 0 when the US is NOT present. "
      ]
    },
    {
      "cell_type": "markdown",
      "metadata": {
        "id": "Hl_fmFAXq10Z"
      },
      "source": [
        "# RW 변수 및 수식 설명\n",
        "alpha : saliency of the CS \n",
        "\n",
        "beta : learning rate\n",
        "\n",
        "∆V = αβ(λ − ΣV)"
      ]
    },
    {
      "cell_type": "code",
      "metadata": {
        "id": "pPAY-ceWD0S9"
      },
      "source": [
        "#공통\n",
        "%matplotlib inline\n",
        "import matplotlib.pyplot as plt\n",
        "\n",
        "beta_givenUS = 0.1\n",
        "beta_noUS = 0.05\n",
        "lambda_givenUS = 1\n",
        "lambda_noUS = 0"
      ],
      "execution_count": 1,
      "outputs": []
    },
    {
      "cell_type": "markdown",
      "metadata": {
        "id": "QqiXlztyqEUo"
      },
      "source": [
        "# Problem 1: Conditioned inhibition\n",
        "1.\tTwo alternating trial types: trial 1: CS1+; trial 2: CS1/CS2-; 100 trials total\n",
        "2.\tPlot both CS1 and CS2 in the same graph\n",
        "3.\tSaliency: CS1:0.7; CS2: 0.7\n"
      ]
    },
    {
      "cell_type": "code",
      "metadata": {
        "id": "Tm4Lw_ZfIrns"
      },
      "source": [
        "def rw(V,alpha,sumV,learning):\n",
        "  if learning==True:\n",
        "    return V + alpha*beta_givenUS*(lambda_givenUS - sumV)\n",
        "  elif learning==False :\n",
        "    return V + alpha*beta_noUS*(lambda_noUS - sumV)"
      ],
      "execution_count": 2,
      "outputs": []
    },
    {
      "cell_type": "code",
      "metadata": {
        "id": "68XSnBtiuAHL",
        "outputId": "80261f8f-46ff-4049-b898-a7516af774f0",
        "colab": {
          "base_uri": "https://localhost:8080/",
          "height": 263
        }
      },
      "source": [
        "alpha1 = 0.7\n",
        "alpha2 = 0.7\n",
        "\n",
        "trial = list(range(1,101))\n",
        "\n",
        "V1 = [0]\n",
        "V2 = [0]\n",
        "old_v1=0\n",
        "old_v2=0\n",
        "new_v1=0\n",
        "new_v2=0\n",
        "for i in trial:\n",
        "  old_v1 = new_v1\n",
        "  old_v2 = new_v2\n",
        "  if i%2 == 1:\n",
        "    new_v1 = old_v1 + alpha1 * beta_givenUS * (lambda_givenUS - (old_v1))\n",
        "    new_v2 = old_v2\n",
        "    V1.append(new_v1)\n",
        "    V2.append(new_v2)    \n",
        "  elif i%2 == 0:\n",
        "    new_v1 = old_v1 + alpha1*beta_noUS*(lambda_noUS - (old_v1+old_v2))\n",
        "    V1.append(new_v1)\n",
        "    new_v2 = old_v2 + alpha2*beta_noUS*(lambda_noUS - (old_v2+old_v1))\n",
        "    V2.append(new_v2)\n",
        "    \n",
        "print(\"problem 1 : conditioned inhibition\")\n",
        "plt.figure(figsize=(10, 3))\n",
        "trial.insert(0,0)\n",
        "plt.plot(trial,V1,label=\"CS1\")\n",
        "plt.plot(trial,V2,label=\"CS2\")\n",
        "plt.xlabel(\"trial\")\n",
        "plt.ylabel(\"V\")\n",
        "plt.legend()\n",
        "plt.show()\n",
        "print(\"CS1 : \",V1[99],\", CS2: \",V2[99])"
      ],
      "execution_count": 3,
      "outputs": [
        {
          "output_type": "stream",
          "text": [
            "problem 1 : conditioned inhibition\n"
          ],
          "name": "stdout"
        },
        {
          "output_type": "display_data",
          "data": {
            "image/png": "[encoded data removed]",
            "text/plain": [
              "<Figure size 720x216 with 1 Axes>"
            ]
          },
          "metadata": {
            "tags": [],
            "needs_background": "light"
          }
        },
        {
          "output_type": "stream",
          "text": [
            "CS1 :  0.8305898577369798 , CS2:  -0.5787673845610095\n"
          ],
          "name": "stdout"
        }
      ]
    },
    {
      "cell_type": "markdown",
      "metadata": {
        "id": "pQ9QjErpFfdw"
      },
      "source": [
        "CS1이 주어졌을 때만 US가 주어지고, CS2가 CS1과 함께 주어졌을 때에는 US가 없어서, 피실험자는 CS1는 갈수록 US가 나오는 excitatory가 되고, CS2는 CS1을 억제하는 것으로 inhibitory가 될 것이라 예상했습니다. 예상대로 CS1은 trial이 갈 수록 늘어가고, CS2는 trial이 지날 수록 더욱더 작아집니다."
      ]
    },
    {
      "cell_type": "markdown",
      "metadata": {
        "id": "gss7TE36HOnx"
      },
      "source": [
        "# Problem 2: Overexpectation (2 points)\n",
        "1.\tStage 1. group 1: CS1+, group 2: CS1+, 100 trials\n",
        "2.\tStage 2. group 1: CS2+, group 2: CS2 +, 100 trials\n",
        "3.\tStage 3. group 1: CS1/CS2+, group 2: Sit, 100 trials\n",
        "4.\tStage 4. group 1: CS1/CS2-, group 2: CS1/CS2-, 10 trials\n",
        "5.\tPlot stage 1-4. Plot both individual and combined CSs for stage 3~4. \n",
        "6.\tSaliency: CS1: 0.7 CS2: 0.7\n"
      ]
    },
    {
      "cell_type": "code",
      "metadata": {
        "id": "URGWq5SBHXoH",
        "outputId": "9ad06ae4-d16d-4198-af4a-8d62307f0a9e",
        "colab": {
          "base_uri": "https://localhost:8080/",
          "height": 241
        }
      },
      "source": [
        "alpha1 = 0.7\n",
        "alpha2 = 0.7\n",
        "\n",
        "##group1\n",
        "V1 = [0]\n",
        "V2 = [0]\n",
        "v1 = 0\n",
        "v2 = 0\n",
        "\n",
        "#stage1\n",
        "trial = list(range(1,101))\n",
        "for i in trial:\n",
        "  v1 = rw(v1,alpha1,v1,True)\n",
        "  V1.append(v1)\n",
        "  V2.append(v2)\n",
        "\n",
        "#stage2\n",
        "trial = list(range(1,101))\n",
        "for i in trial:\n",
        "  v2 = rw(v2,alpha2,v2,True)\n",
        "  V1.append(v1)\n",
        "  V2.append(v2)\n",
        "\n",
        "#stage3\n",
        "for i in trial:\n",
        "  ori_v1 = v1\n",
        "  v1 = rw(v1,alpha1,ori_v1+v2,True)\n",
        "  v2 = rw(v2,alpha2,ori_v1+v2,True)\n",
        "  V1.append(v1)\n",
        "  V2.append(v2)\n",
        "\n",
        "#stage4\n",
        "trial = list(range(1,11))\n",
        "for i in trial:\n",
        "  ori_v1 = v1\n",
        "  v1 = rw(v1,alpha1,ori_v1+v2,False)\n",
        "  v2 = rw(v2,alpha2,ori_v1+v2,False)\n",
        "  V1.append(v1)\n",
        "  V2.append(v2)\n",
        "\n",
        "\n",
        "trial = list(range(0,311))\n",
        "\n",
        "plt.figure(figsize=(10, 3))\n",
        "plt.plot(trial,V1,label=\"CS1\")\n",
        "plt.plot(trial,V2,label=\"CS2\")\n",
        "plt.xlabel(\"trial\")\n",
        "plt.ylabel(\"V\")\n",
        "plt.title(\"p2 : group1\")\n",
        "plt.legend()\n",
        "plt.show()"
      ],
      "execution_count": 4,
      "outputs": [
        {
          "output_type": "display_data",
          "data": {
            "image/png": "[encoded data removed]",
            "text/plain": [
              "<Figure size 720x216 with 1 Axes>"
            ]
          },
          "metadata": {
            "tags": [],
            "needs_background": "light"
          }
        }
      ]
    },
    {
      "cell_type": "code",
      "metadata": {
        "id": "ZSnX4eszQC2Q",
        "outputId": "4816d93f-857c-42ce-add8-a44b7054365a",
        "colab": {
          "base_uri": "https://localhost:8080/",
          "height": 241
        }
      },
      "source": [
        "alpha1 = 0.7\n",
        "alpha2 = 0.7\n",
        "\n",
        "##group1\n",
        "V1 = [0]\n",
        "V2 = [0]\n",
        "v1 = 0\n",
        "v2 = 0\n",
        "\n",
        "#stage1\n",
        "trial = list(range(1,101))\n",
        "for i in trial:\n",
        "  v1 = rw(v1,alpha1,v1,True)\n",
        "  V1.append(v1)\n",
        "  V2.append(v2)\n",
        "\n",
        "#stage2\n",
        "trial = list(range(1,101))\n",
        "for i in trial:\n",
        "  v2 = rw(v2,alpha2,v2,True)\n",
        "  V1.append(v1)\n",
        "  V2.append(v2)\n",
        "\n",
        "#stage3\n",
        "for i in trial:\n",
        "  V1.append(v1)\n",
        "  V2.append(v2)\n",
        "\n",
        "#stage4\n",
        "trial = list(range(1,11))\n",
        "for i in trial:\n",
        "  ori_v1 = v1\n",
        "  v1 = rw(v1,alpha1,ori_v1+v2,False)\n",
        "  v2 = rw(v2,alpha2,ori_v1+v2,False)\n",
        "  V1.append(v1)\n",
        "  V2.append(v2)\n",
        "\n",
        "\n",
        "trial = list(range(0,311))\n",
        "\n",
        "plt.figure(figsize=(10, 3))\n",
        "plt.plot(trial,V1,label=\"CS1\")\n",
        "plt.plot(trial,V2,label=\"CS2\")\n",
        "plt.xlabel(\"trial\")\n",
        "plt.ylabel(\"V\")\n",
        "plt.title(\"p2 : group2\")\n",
        "plt.axis([0, 311, 0, 1.1])\n",
        "plt.legend()\n",
        "plt.show()"
      ],
      "execution_count": 5,
      "outputs": [
        {
          "output_type": "display_data",
          "data": {
            "image/png": "[encoded data removed]",
            "text/plain": [
              "<Figure size 720x216 with 1 Axes>"
            ]
          },
          "metadata": {
            "tags": [],
            "needs_background": "light"
          }
        }
      ]
    },
    {
      "cell_type": "markdown",
      "metadata": {
        "id": "MP0soKxGQphD"
      },
      "source": [
        "CS1,CS2 따로 학습한 뒤에 같이 제시되면 오히려 둘의 학습 효과가 둘다 떨어진다는 것을 논문을 읽으며 예상하였고, 실제 구현해본 결과 그러하였습니다. 하지만 어느정도 떨어지고 나서는 그 상태를 유지하는 것은 놀라웠습니다. 또, CS1/CS2+인 경우와 CS1/CS2-의 경우 차이점이 있을까 생각하였는데, 호기심으로 stage4를 10이 아닌 100trial을 하였을 때 경우를 보니 떨어지고 나서도 어느정도를 유지하는 CS1/CS2+와는 다르게 CS1/CS2-는 학습이 아예 되지 않는 0의 상태로 가는 것이 놀라웠습니다."
      ]
    },
    {
      "cell_type": "markdown",
      "metadata": {
        "id": "MxHwevL6TgMP"
      },
      "source": [
        "# Problem 3: Second-order conditioning (1 points)\n",
        "1.\tCS1+, 100 trials\n",
        "2.\tCS1/CS2-, 25 trials\n",
        "3.\tCS2-, 10 trials\n",
        "4.\tSaliency: CS1=CS2: 0.7\n"
      ]
    },
    {
      "cell_type": "code",
      "metadata": {
        "id": "HD2Vu1hJUII9",
        "outputId": "c7ea74f1-7344-4d9f-fb9b-e157c0e92c04",
        "colab": {
          "base_uri": "https://localhost:8080/",
          "height": 241
        }
      },
      "source": [
        "alpha1 = 0.7\n",
        "alpha2 = 0.7\n",
        "\n",
        "V1 = [0]\n",
        "V2 = [0]\n",
        "v1 = 0\n",
        "v2 = 0\n",
        "\n",
        "trial = list(range(1,101))\n",
        "for i in trial:\n",
        "  v1 = rw(v1,alpha1,v1,True)\n",
        "  V1.append(v1)\n",
        "  V2.append(v2)\n",
        "\n",
        "trial = list(range(1,26))\n",
        "for i in trial:\n",
        "  ori_v1 = v1\n",
        "  v1 = rw(v1,alpha1,ori_v1+v2,False)\n",
        "  v2 = rw(v2,alpha2,ori_v1+v2,False)\n",
        "  V1.append(v1)\n",
        "  V2.append(v2)\n",
        "\n",
        "trial = list(range(1,11))\n",
        "for i in trial:\n",
        "  v2 = rw(v2,alpha2,v2,False)\n",
        "  V1.append(v1)\n",
        "  V2.append(v2)\n",
        "\n",
        "\n",
        "trial = list(range(0,136))\n",
        "\n",
        "plt.figure(figsize=(10, 3))\n",
        "plt.plot(trial,V1,label=\"CS1\")\n",
        "plt.plot(trial,V2,label=\"CS2\")\n",
        "plt.xlabel(\"trial\")\n",
        "plt.ylabel(\"V\")\n",
        "plt.title(\"p3\")\n",
        "#plt.axis([0, 136, 0, 1.1])\n",
        "plt.legend()\n",
        "plt.show()"
      ],
      "execution_count": 6,
      "outputs": [
        {
          "output_type": "display_data",
          "data": {
            "image/png": "[encoded data removed]",
            "text/plain": [
              "<Figure size 720x216 with 1 Axes>"
            ]
          },
          "metadata": {
            "tags": [],
            "needs_background": "light"
          }
        }
      ]
    },
    {
      "cell_type": "markdown",
      "metadata": {
        "id": "8LdqJkjSXLGe"
      },
      "source": [
        "second order conditioning은 RW의 대표적인 failure model입니다. RW의 예측에 따라 cs1을 먼저 학습시킨 stage1과 둘을 함께 제시하였을 때 us가 제시되지 않아 둘다 함께 감소하는 stage2까지 예상하였습니다. 즉, CS2가 inhibitory가 되는 것까지 예상하였습니다. 하지만 stage3에서 cs2만 us없이 주어졌을 때, stage2에서 보이는 경향과 같을 것이라 예상하였지만, 실제로는 그렇지 않았습니다. PW상으로 로 학습과 관련없는 0으로 다시 가는 경향을 보였습니다."
      ]
    },
    {
      "cell_type": "markdown",
      "metadata": {
        "id": "hkqHEZqAZ7r6"
      },
      "source": [
        "# Problem 4: Sensory preconditioning (2 points)\n",
        "1.\tStage 1: CS1/CS2-, 100 trials\n",
        "2.\tStage 2: CS2+, 100 trials\n",
        "3.\tStage 3: CS1-, 10 trials\n",
        "4.\tSaliency: CS1: 0.7 CS2: 0.3\n"
      ]
    },
    {
      "cell_type": "code",
      "metadata": {
        "id": "8uoBVFCNZ_cl",
        "outputId": "f310e1d1-ee33-4ebf-94c7-bdd343c5ecb4",
        "colab": {
          "base_uri": "https://localhost:8080/",
          "height": 241
        }
      },
      "source": [
        "alpha1 = 0.7\n",
        "alpha2 = 0.3\n",
        "\n",
        "V1 = [0]\n",
        "V2 = [0]\n",
        "v1 = 0\n",
        "v2 = 0\n",
        "\n",
        "trial = list(range(1,101))\n",
        "for i in trial:\n",
        "  ori_v1 = v1\n",
        "  v1 = rw(v1,alpha1,ori_v1+v2,False)\n",
        "  v2 = rw(v2,alpha2,ori_v1+v2,False)\n",
        "  V1.append(v1)\n",
        "  V2.append(v2)\n",
        "\n",
        "trial = list(range(1,101))\n",
        "for i in trial:\n",
        "  v2 = rw(v2,alpha2,v2,True)\n",
        "  V1.append(v1)\n",
        "  V2.append(v2)\n",
        "\n",
        "trial = list(range(1,11))\n",
        "for i in trial:\n",
        "  v1 = rw(v1,alpha1,v1,False)\n",
        "  V1.append(v1)\n",
        "  V2.append(v2)\n",
        "\n",
        "\n",
        "trial = list(range(0,211))\n",
        "\n",
        "plt.figure(figsize=(10, 3))\n",
        "plt.plot(trial,V1,label=\"CS1\")\n",
        "plt.plot(trial,V2,label=\"CS2\")\n",
        "plt.xlabel(\"trial\")\n",
        "plt.ylabel(\"V\")\n",
        "plt.title(\"p4\")\n",
        "#plt.axis([0, 136, 0, 1.1])\n",
        "plt.legend()\n",
        "plt.show()"
      ],
      "execution_count": 7,
      "outputs": [
        {
          "output_type": "display_data",
          "data": {
            "image/png": "[encoded data removed]",
            "text/plain": [
              "<Figure size 720x216 with 1 Axes>"
            ]
          },
          "metadata": {
            "tags": [],
            "needs_background": "light"
          }
        }
      ]
    },
    {
      "cell_type": "markdown",
      "metadata": {
        "id": "2CFwYqCKdJsr"
      },
      "source": [
        "RW적으로 생각을 해보았을 때, 처음에 둘 다 US없이 제시를 한다면 아무런 학습효과가 없을 것이라 예상하였습니다. 그런 상태에서 CS2를 US와 함께 제시한다면 평범한 acquisition곡선을 그릴 것이라 예상하였고, 마지막에 CS1을 US없이 학습한다고 하여도 원래 US에 대한 학습이 0이었기에 역시 학습을 전혀 하지 않을 것이라 예상하였습니다. 제 예상과 맞는 그래프가 나오게 되었습니다."
      ]
    },
    {
      "cell_type": "markdown",
      "metadata": {
        "id": "WnpldqkPd8FU"
      },
      "source": [
        "# Problem 5: Supernormal conditioning (2 points)\n",
        "1.\tStage 1. group 1: Two alternating trial types: trial 1: CS1+; trial 2: CS1/CS2-, group 2: Sit control, 200 trials total\n",
        "2.\tStage 2. group 1: CS1/CS2+, group 2: CS1/CS2+, 200 trials \n",
        "3.\tStage 3. CS1-, 10 trials for both groups\n",
        "4.\tStage 4. CS2-, 10 trials for both groups\n",
        "5.\tSaliency: CS1=CS2: 0.7\n",
        "\n",
        "Assume the initial value of CS2 = -0.8\n"
      ]
    },
    {
      "cell_type": "code",
      "metadata": {
        "id": "ORnKRFMed3ca",
        "outputId": "44d753a9-d739-4551-f916-4c2fdca0a4da",
        "colab": {
          "base_uri": "https://localhost:8080/",
          "height": 241
        }
      },
      "source": [
        "#group 1\n",
        "\n",
        "alpha1 = 0.7\n",
        "alpha2 = 0.7\n",
        "\n",
        "V1 = [0]\n",
        "V2 = [-0.8]\n",
        "v1 = 0\n",
        "v2 = -0.8\n",
        "\n",
        "#stage1\n",
        "trial = list(range(1,201))\n",
        "for i in trial:\n",
        "  if i%2==1:\n",
        "    v1 = rw(v1,alpha1,v1,True)\n",
        "    V1.append(v1)\n",
        "    V2.append(v2)\n",
        "  else:\n",
        "    ori_v1 = v1\n",
        "    v1 = rw(v1,alpha1,ori_v1+v2,False)\n",
        "    v2 = rw(v2,alpha2,ori_v1+v2,False)\n",
        "    V1.append(v1)\n",
        "    V2.append(v2)\n",
        "\n",
        "#stage2\n",
        "trial = list(range(1,201))\n",
        "for i in trial:\n",
        "  ori_v1 = v1\n",
        "  v1 = rw(v1,alpha1,ori_v1+v2,True)\n",
        "  v2 = rw(v2,alpha2,ori_v1+v2,True)\n",
        "  V1.append(v1)\n",
        "  V2.append(v2)\n",
        "\n",
        "#stage3\n",
        "trial = list(range(1,11))\n",
        "for i in trial:\n",
        "  v1 = rw(v1,alpha1,v1,False)\n",
        "  V1.append(v1)\n",
        "  V2.append(v2)\n",
        "\n",
        "#stage4\n",
        "trial = list(range(1,11))\n",
        "for i in trial:\n",
        "  v2 = rw(v2,alpha2,v2,False)\n",
        "  V1.append(v1)\n",
        "  V2.append(v2)\n",
        "\n",
        "trial = list(range(0,421))\n",
        "\n",
        "plt.figure(figsize=(10, 3))\n",
        "plt.plot(trial,V1,label=\"CS1\")\n",
        "plt.plot(trial,V2,label=\"CS2\")\n",
        "plt.xlabel(\"trial\")\n",
        "plt.ylabel(\"V\")\n",
        "plt.title(\"p5: group1\")\n",
        "#plt.axis([0, 136, 0, 1.1])\n",
        "plt.legend()\n",
        "plt.show()"
      ],
      "execution_count": 8,
      "outputs": [
        {
          "output_type": "display_data",
          "data": {
            "image/png": "[encoded data removed]",
            "text/plain": [
              "<Figure size 720x216 with 1 Axes>"
            ]
          },
          "metadata": {
            "tags": [],
            "needs_background": "light"
          }
        }
      ]
    },
    {
      "cell_type": "code",
      "metadata": {
        "id": "3dH0ECThifjI",
        "outputId": "f0b6f4e0-fdc5-48f1-9a4a-9ea405128004",
        "colab": {
          "base_uri": "https://localhost:8080/",
          "height": 241
        }
      },
      "source": [
        "#group 2\n",
        "\n",
        "alpha1 = 0.7\n",
        "alpha2 = 0.7\n",
        "\n",
        "V1 = [0]\n",
        "V2 = [-0.8]\n",
        "v1 = 0\n",
        "v2 = -0.8\n",
        "\n",
        "#stage1\n",
        "trial = list(range(1,201))\n",
        "for i in trial:\n",
        "  V1.append(v1)\n",
        "  V2.append(v2)\n",
        "\n",
        "#stage2\n",
        "trial = list(range(1,201))\n",
        "for i in trial:\n",
        "  ori_v1 = v1\n",
        "  v1 = rw(v1,alpha1,ori_v1+v2,True)\n",
        "  v2 = rw(v2,alpha2,ori_v1+v2,True)\n",
        "  V1.append(v1)\n",
        "  V2.append(v2)\n",
        "\n",
        "#stage3\n",
        "trial = list(range(1,11))\n",
        "for i in trial:\n",
        "  v1 = rw(v1,alpha1,v1,False)\n",
        "  V1.append(v1)\n",
        "  V2.append(v2)\n",
        "\n",
        "#stage4\n",
        "trial = list(range(1,11))\n",
        "for i in trial:\n",
        "  v2 = rw(v2,alpha2,v2,False)\n",
        "  V1.append(v1)\n",
        "  V2.append(v2)\n",
        "\n",
        "trial = list(range(0,421))\n",
        "\n",
        "plt.figure(figsize=(10, 3))\n",
        "plt.plot(trial,V1,label=\"CS1\")\n",
        "plt.plot(trial,V2,label=\"CS2\")\n",
        "plt.xlabel(\"trial\")\n",
        "plt.ylabel(\"V\")\n",
        "plt.title(\"p5: group2\")\n",
        "#plt.axis([0, 136, 0, 1.1])\n",
        "plt.legend()\n",
        "plt.show()"
      ],
      "execution_count": 9,
      "outputs": [
        {
          "output_type": "display_data",
          "data": {
            "image/png": "[encoded data removed]",
            "text/plain": [
              "<Figure size 720x216 with 1 Axes>"
            ]
          },
          "metadata": {
            "tags": [],
            "needs_background": "light"
          }
        }
      ]
    },
    {
      "cell_type": "markdown",
      "metadata": {
        "id": "d2U1epXLjvJ-"
      },
      "source": [
        "RW적으로 생각해 보았을 때, group1에서는 stage1에서 CS1만 있을 때 US가 있고, CS2와 함께 주어졌을 떄에는 US가 없어서 conditioned inhitiotion이 일어난다고 생각하였고, 실제 그래프에서 그렇게 나왔습니다. 그 이후 CS1,CS2둘 다 제시하여 US가 주어졌을 때, CS1은 더 강화된다고 생각하였고 실제로 1을 넘은 그래프가 나왔습니다. CS2역시 inhibition으로 학습되었던 것이 어느정도 그렇지 않다고 학습(0쪽으로 학습)이 된다고 생각하였고 실제도 그러하였습니다. 마지막에 각각 US없이 제시하여 학습효과가 떨어진다(0쪽으로 간다)고 생각하였는데 실제도 그렇게 나왔습니다. group2에서 200 sit은 아무것도 하지 않는 것과 같고 따라서 학습한 것이 없습니다. 그 이후 CS1과 CS2함께 US가 제시되어 둘다 acquisition이 일어났고, 각각 stage3,4에서 학습효과가 떨어지는 것까지 예상하였습니다. 결론적으로 예상대로 일어난 그래프였습니다."
      ]
    },
    {
      "cell_type": "markdown",
      "metadata": {
        "id": "cwshgm9SqXNa"
      },
      "source": [
        "# Problem 6: Excitatory conditioning without the US (2 points)\n",
        "1.\tAssume the initial value of CS2 = -0.8\n",
        "2.\tStage 1: CS1/CS2-, 25 trials\n",
        "3.\tStage 2: CS1-, 10 trials\n",
        "4.\tStage 3: CS2-, 10 trials\n",
        "5.\tSaliency: CS1=CS2: 0.7\n"
      ]
    },
    {
      "cell_type": "code",
      "metadata": {
        "id": "HIjpnylMqcd7",
        "outputId": "2d04d73d-c171-408e-988f-22c3814b7b49",
        "colab": {
          "base_uri": "https://localhost:8080/",
          "height": 241
        }
      },
      "source": [
        "alpha1 = 0.7\n",
        "alpha2 = 0.7\n",
        "\n",
        "V1 = [0]\n",
        "V2 = [-0.8]\n",
        "v1 = 0\n",
        "v2 = -0.8\n",
        "\n",
        "#stage1\n",
        "trial = list(range(1,26))\n",
        "for i in trial:\n",
        "  ori_v1 = v1\n",
        "  v1 = rw(v1,alpha1,ori_v1+v2,False)\n",
        "  v2 = rw(v2,alpha2,ori_v1+v2,False)\n",
        "  V1.append(v1)\n",
        "  V2.append(v2)\n",
        "\n",
        "#stage2\n",
        "trial = list(range(1,11))\n",
        "for i in trial:\n",
        "  v1 = rw(v1,alpha1,v1,False)\n",
        "  V1.append(v1)\n",
        "  V2.append(v2)\n",
        "\n",
        "#stage3\n",
        "trial = list(range(1,11))\n",
        "for i in trial:\n",
        "  v2 = rw(v2,alpha2,v2,False)\n",
        "  V1.append(v1)\n",
        "  V2.append(v2)\n",
        "\n",
        "trial = list(range(0,46))\n",
        "\n",
        "plt.figure(figsize=(10, 3))\n",
        "plt.plot(trial,V1,label=\"CS1\")\n",
        "plt.plot(trial,V2,label=\"CS2\")\n",
        "plt.xlabel(\"trial\")\n",
        "plt.ylabel(\"V\")\n",
        "plt.title(\"p6\")\n",
        "#plt.axis([0, 136, 0, 1.1])\n",
        "plt.legend()\n",
        "plt.show()"
      ],
      "execution_count": 10,
      "outputs": [
        {
          "output_type": "display_data",
          "data": {
            "image/png": "[encoded data removed]",
            "text/plain": [
              "<Figure size 720x216 with 1 Axes>"
            ]
          },
          "metadata": {
            "tags": [],
            "needs_background": "light"
          }
        }
      ]
    },
    {
      "cell_type": "markdown",
      "metadata": {
        "id": "FaHNlBUqrLf9"
      },
      "source": [
        "처음 CS2는 -에서 진행하였기에 US가 제시되지 않는 stage1에서 CS1,CS2가 함께 주어진다면 원래 CS2만 주어지면 US일어나지 않는 방향으로 CS2가 학습이 되어있었기 떄문에 CS1은 둘 다 제시되었을 때 오히려 US가 일어날 것이라고 생각하는 방향으로 올라갈 것이라 예상하였고, CS2는 trial이 지날 수록 CS1이 올라감에 따라 점점 US에 대해 학습 자체가 0으로 되는 방향이 될 것이라 예상하였습니다. 하지만 stage2가 되었을 때, US예상했던 CS1에서는 Us가 일어나지 않자, 학습 감소하는 경향을 보일 것이라 예상했고 실제로도 그랬습니다.다만,  CS2의 경우에는 혼자 주어졌을 때에도 US가 제시되지 않자, US가 일어나지 않을 거라는 방향(-로 가는 방향)으로 갈 것이라 예상하였으나, 예상과는 다르게 0으로 가는 경향을 보였습니다."
      ]
    },
    {
      "cell_type": "markdown",
      "metadata": {
        "id": "EGn09mGisqWf"
      },
      "source": [
        "# Optional question (2 points):\n",
        "Simulate a conditioning case where the US is presented sometimes in the absence and sometimes in the presence of the CS, by assuming the context as a CS using R-W model. You can use your own parameters within the range specified by the R-W model. Using  several different sets will give you a nice set of date to plot in a graph. You can also try different sets of p(US/no CS) and p(US/CS). What did you find from the simulation?\n"
      ]
    },
    {
      "cell_type": "code",
      "metadata": {
        "id": "AhsOGik5A6fA",
        "outputId": "047e65dd-54dd-4ab0-bc46-3edb6df076ff",
        "colab": {
          "base_uri": "https://localhost:8080/",
          "height": 241
        }
      },
      "source": [
        "import random\n",
        "\n",
        "#CS가 있을지(1) 없을지(0)\n",
        "CS = [random.randint(0,1) for i in range(100)]  \n",
        "trial = list(range(0,100))\n",
        "\n",
        "alpha1 = 0.7\n",
        "\n",
        "V1 = [0]\n",
        "v1 = 0\n",
        "\n",
        "for i in trial:\n",
        "  #CS가 주어지는 경우\n",
        "  if CS[i]==1:\n",
        "    v1 = rw(v1,alpha1,v1,True)\n",
        "    V1.append(v1)\n",
        "  #CS없이 US만 있는 경우\n",
        "  elif CS[i]==0:\n",
        "    V1.append(v1)\n",
        "\n",
        "import matplotlib.pyplot as plt\n",
        "trial = list(range(0,101))\n",
        "\n",
        "plt.figure(figsize=(10, 3))\n",
        "plt.plot(trial,V1,label=\"CS1\")\n",
        "plt.xlabel(\"trial\")\n",
        "plt.ylabel(\"V\")\n",
        "plt.title(\"Optional\")\n",
        "#plt.axis([0, 136, 0, 1.1])\n",
        "plt.legend()\n",
        "plt.show()"
      ],
      "execution_count": 31,
      "outputs": [
        {
          "output_type": "display_data",
          "data": {
            "image/png": "[encoded data removed]",
            "text/plain": [
              "<Figure size 720x216 with 1 Axes>"
            ]
          },
          "metadata": {
            "tags": [],
            "needs_background": "light"
          }
        }
      ]
    },
    {
      "cell_type": "markdown",
      "metadata": {
        "id": "UF6evgRiGL4j"
      },
      "source": [
        "제 생각으로는 US만 있을 때에는 학습이 유지되고, US,CS같이 주어진 경우 acquisition이 일어나는 것 같습니다. random변수로 CS가 주어질 지, 주어지지 않을지를 랜덤으로 정하여 그래프를 돌려보았을 때 위와 같은 그래프가 나타납니다. "
      ]
    }
  ]
}